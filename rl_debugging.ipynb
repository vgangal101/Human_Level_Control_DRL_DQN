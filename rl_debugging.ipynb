{
 "cells": [
  {
   "cell_type": "code",
   "execution_count": null,
   "id": "47fe3a51-920d-42d5-aaaf-89b905e64013",
   "metadata": {},
   "outputs": [],
   "source": [
    "import numpy as np\n",
    "import torch \n",
    "import gym \n"
   ]
  },
  {
   "cell_type": "code",
   "execution_count": null,
   "id": "f878576b-921d-449c-b186-f990ab2649af",
   "metadata": {},
   "outputs": [],
   "source": [
    "import matplotlib"
   ]
  },
  {
   "cell_type": "code",
   "execution_count": null,
   "id": "ce029231-1b9d-4061-bd5a-247fdd250a4b",
   "metadata": {},
   "outputs": [],
   "source": [
    "import matplotlib.pyplot as plt"
   ]
  },
  {
   "cell_type": "code",
   "execution_count": null,
   "id": "747c0497-204c-4a0b-b402-c1eca32213ed",
   "metadata": {},
   "outputs": [],
   "source": [
    "import cv2"
   ]
  },
  {
   "cell_type": "code",
   "execution_count": null,
   "id": "46bbf370-8454-4947-81be-911defd05a96",
   "metadata": {},
   "outputs": [],
   "source": [
    "from preprocessing_wrappers import make_atari, wrap_deepmind, ImageToPyTorch"
   ]
  },
  {
   "cell_type": "code",
   "execution_count": null,
   "id": "57bdd335-0a3a-4aea-8760-2e5f15300d86",
   "metadata": {},
   "outputs": [],
   "source": [
    "env = gym.make('PongNoFrameskip-v4')\n",
    "env.observation_space"
   ]
  },
  {
   "cell_type": "code",
   "execution_count": null,
   "id": "8088291e-4859-44a2-8110-da0a763925f7",
   "metadata": {},
   "outputs": [],
   "source": [
    "env_mapper = {'Pong':'PongNoFrameskip-v4',\n",
    "               'Breakout': 'BreakoutNoFrameskip-v4',\n",
    "               'Atlantis':'AtlantisNoFrameskip-v4'}\n"
   ]
  },
  {
   "cell_type": "code",
   "execution_count": null,
   "id": "fa76cd3f-bb14-4a55-8b64-1aa5b1e00d87",
   "metadata": {},
   "outputs": [],
   "source": [
    "obs = env.reset()"
   ]
  },
  {
   "cell_type": "code",
   "execution_count": null,
   "id": "540c7f2e-19af-4b05-b0e9-f38078e3b0c8",
   "metadata": {},
   "outputs": [],
   "source": [
    "np.array(obs).shape"
   ]
  },
  {
   "cell_type": "code",
   "execution_count": null,
   "id": "1679138a-4b7a-43dc-913e-11655e97829a",
   "metadata": {},
   "outputs": [],
   "source": []
  },
  {
   "cell_type": "code",
   "execution_count": null,
   "id": "fd372296-ca43-4f3f-9ca6-7cf5e94d662f",
   "metadata": {},
   "outputs": [],
   "source": [
    "wrapped_env = ImageToPyTorch(wrap_deepmind(make_atari(env_mapper['Pong'])))"
   ]
  },
  {
   "cell_type": "code",
   "execution_count": null,
   "id": "63f4c156",
   "metadata": {},
   "outputs": [],
   "source": [
    "wrapped_env.action_space"
   ]
  },
  {
   "cell_type": "code",
   "execution_count": null,
   "id": "ca844e76",
   "metadata": {},
   "outputs": [],
   "source": [
    "wrapped_env.observation_space"
   ]
  },
  {
   "cell_type": "code",
   "execution_count": null,
   "id": "822a78c2-bfd5-43db-898a-34188f1a3050",
   "metadata": {},
   "outputs": [],
   "source": [
    "obs = wrapped_env.reset()"
   ]
  },
  {
   "cell_type": "code",
   "execution_count": null,
   "id": "9733762d",
   "metadata": {},
   "outputs": [],
   "source": [
    "wrapped_env.observation_space.shape"
   ]
  },
  {
   "cell_type": "code",
   "execution_count": null,
   "id": "84466496-dc8b-412c-8e10-294ca59ac499",
   "metadata": {},
   "outputs": [],
   "source": [
    "np_obs = np.array(obs)"
   ]
  },
  {
   "cell_type": "code",
   "execution_count": null,
   "id": "69db3abc-d57f-4422-8ac3-6add51637a22",
   "metadata": {},
   "outputs": [],
   "source": [
    "np_obs.shape"
   ]
  },
  {
   "cell_type": "code",
   "execution_count": null,
   "id": "c634877a-4cee-4a0f-8321-ae372beca8c7",
   "metadata": {},
   "outputs": [],
   "source": [
    "plt.imshow(np_obs[0,:,:])"
   ]
  },
  {
   "cell_type": "code",
   "execution_count": null,
   "id": "6cc5f01c-e96c-4a7b-9753-36f756c85ca1",
   "metadata": {},
   "outputs": [],
   "source": [
    "plt.imshow(np_obs[1,:,:])"
   ]
  },
  {
   "cell_type": "code",
   "execution_count": null,
   "id": "f80b974c-1a4c-4c20-bbde-6d8c59fbfa4c",
   "metadata": {},
   "outputs": [],
   "source": [
    "plt.imshow(np_obs[2,:,:])"
   ]
  },
  {
   "cell_type": "code",
   "execution_count": null,
   "id": "609feceb-f8da-4a98-bde7-00b5626699e0",
   "metadata": {},
   "outputs": [],
   "source": [
    "plt.imshow(np_obs[3,:,:,])"
   ]
  },
  {
   "cell_type": "code",
   "execution_count": null,
   "id": "bc3674e4-11ad-46a5-ba29-e23e030e3cfb",
   "metadata": {},
   "outputs": [],
   "source": [
    "obs, reward, done, info = wrapped_env.step(0)"
   ]
  },
  {
   "cell_type": "code",
   "execution_count": null,
   "id": "9217bf69-7070-4b73-b444-19dae5b7f404",
   "metadata": {},
   "outputs": [],
   "source": [
    "obs, reward, done, info = wrapped_env.step(1)"
   ]
  },
  {
   "cell_type": "code",
   "execution_count": null,
   "id": "0319118a-039c-46b7-9592-8b3e69386b33",
   "metadata": {},
   "outputs": [],
   "source": [
    "plt.imshow(np_obs[:,:,0])"
   ]
  },
  {
   "cell_type": "code",
   "execution_count": null,
   "id": "efbb1a25-c00f-42e4-805c-efd52c1c1b59",
   "metadata": {},
   "outputs": [],
   "source": [
    "obs.shape"
   ]
  },
  {
   "cell_type": "code",
   "execution_count": null,
   "id": "881bb289-1833-4250-be44-83fa01e39d13",
   "metadata": {},
   "outputs": [],
   "source": [
    "plt.imshow(np_obs[0,:,:])"
   ]
  },
  {
   "cell_type": "code",
   "execution_count": null,
   "id": "3d4c4552-61b4-49d2-9094-ccf3d0b136f7",
   "metadata": {},
   "outputs": [],
   "source": []
  },
  {
   "cell_type": "code",
   "execution_count": null,
   "id": "dbbec0c4-9c67-4ca8-9a33-9a54a431510c",
   "metadata": {},
   "outputs": [],
   "source": [
    "obs, reward, done, info = wrapped_env.step(3)"
   ]
  },
  {
   "cell_type": "code",
   "execution_count": null,
   "id": "e7158c56-6959-4135-9d3b-76e0a97add4e",
   "metadata": {},
   "outputs": [],
   "source": [
    "np_obs = np.array(obs)"
   ]
  },
  {
   "cell_type": "code",
   "execution_count": null,
   "id": "dd487148-4c8f-44a8-b378-86a63fe6880f",
   "metadata": {},
   "outputs": [],
   "source": [
    "np_obs.shape"
   ]
  },
  {
   "cell_type": "code",
   "execution_count": null,
   "id": "92bed849-115f-43b5-b662-6bca1ec340ba",
   "metadata": {},
   "outputs": [],
   "source": [
    "plt.imshow(np_obs[:,:,0])"
   ]
  },
  {
   "cell_type": "code",
   "execution_count": null,
   "id": "632848b3-b686-4875-bb81-330e91e135f5",
   "metadata": {},
   "outputs": [],
   "source": [
    "plt.imshow(np_obs[:,:,1])"
   ]
  },
  {
   "cell_type": "code",
   "execution_count": null,
   "id": "226f5053-b4a1-454e-b955-b096159333fe",
   "metadata": {},
   "outputs": [],
   "source": [
    "plt.imshow(np_obs[:,:,2])"
   ]
  },
  {
   "cell_type": "code",
   "execution_count": null,
   "id": "0e1c2a9a-67e8-4881-b626-2c0f0e3683a6",
   "metadata": {},
   "outputs": [],
   "source": [
    "plt.imshow(np_obs[:,:,3])"
   ]
  },
  {
   "cell_type": "code",
   "execution_count": null,
   "id": "8034c1d2-78d4-45b0-825d-2512a96599b7",
   "metadata": {},
   "outputs": [],
   "source": [
    "np.random.rand(1)[0]"
   ]
  },
  {
   "cell_type": "code",
   "execution_count": null,
   "id": "7eb6b487-b57d-4418-bf73-eccb76385d47",
   "metadata": {},
   "outputs": [],
   "source": [
    "np.random.rand(1)"
   ]
  },
  {
   "cell_type": "code",
   "execution_count": null,
   "id": "facca4b3-ff7a-4910-ad01-e3e85f3c8020",
   "metadata": {},
   "outputs": [],
   "source": [
    "x = np.array([1,2,3,4,5])\n",
    "y = np.array([1000,989,979,400,800])"
   ]
  },
  {
   "cell_type": "code",
   "execution_count": null,
   "id": "238593ca-e5a3-463f-b609-9d22ac9f86dd",
   "metadata": {},
   "outputs": [],
   "source": []
  },
  {
   "cell_type": "code",
   "execution_count": null,
   "id": "1443c6b4-2c70-4c48-a1b6-388b435f9d26",
   "metadata": {},
   "outputs": [],
   "source": [
    "plt.plot(x,y)\n",
    "plt.savefig('tester.png')"
   ]
  },
  {
   "cell_type": "code",
   "execution_count": null,
   "id": "4b29af79-cab1-44ce-ba55-8b35a511c938",
   "metadata": {},
   "outputs": [],
   "source": [
    "from train_utils import LinearSchedule\n",
    "\n",
    "epsilon_schedule = LinearSchedule(1e6,1,0.1)"
   ]
  },
  {
   "cell_type": "code",
   "execution_count": null,
   "id": "8ebe0ccc",
   "metadata": {},
   "outputs": [],
   "source": [
    "timestep_inputs = list(range(1,int(1e6)))\n",
    "epsilon_vals_out = []\n"
   ]
  },
  {
   "cell_type": "code",
   "execution_count": null,
   "id": "f08b45fc",
   "metadata": {},
   "outputs": [],
   "source": [
    "for t in timestep_inputs:\n",
    "    eps_out = epsilon_schedule.get_epsilon(t)\n",
    "    epsilon_vals_out.append(eps_out)"
   ]
  },
  {
   "cell_type": "code",
   "execution_count": null,
   "id": "fb468abf",
   "metadata": {},
   "outputs": [],
   "source": [
    "plt.plot(epsilon_vals_out)"
   ]
  },
  {
   "cell_type": "code",
   "execution_count": null,
   "id": "01a37f1b",
   "metadata": {},
   "outputs": [],
   "source": [
    "capacity = 1000\n",
    "state_dims = (4,84,84)\n",
    "\n",
    "storage_size = (capacity,*state_dims)"
   ]
  },
  {
   "cell_type": "code",
   "execution_count": null,
   "id": "6a161441",
   "metadata": {},
   "outputs": [],
   "source": [
    "storage_size"
   ]
  },
  {
   "cell_type": "code",
   "execution_count": null,
   "id": "af8ae163",
   "metadata": {},
   "outputs": [],
   "source": [
    "capacity = 1000\n",
    "indices = list(range(capacity))\n",
    "\n",
    "selected_indices = np.random.choice(indices)\n",
    "selected_indices\n",
    "\n"
   ]
  },
  {
   "cell_type": "code",
   "execution_count": null,
   "id": "223ec65f",
   "metadata": {},
   "outputs": [],
   "source": []
  }
 ],
 "metadata": {
  "kernelspec": {
   "display_name": "Python 3.8.13 ('DQN_env')",
   "language": "python",
   "name": "python3"
  },
  "language_info": {
   "codemirror_mode": {
    "name": "ipython",
    "version": 3
   },
   "file_extension": ".py",
   "mimetype": "text/x-python",
   "name": "python",
   "nbconvert_exporter": "python",
   "pygments_lexer": "ipython3",
   "version": "3.8.13"
  },
  "vscode": {
   "interpreter": {
    "hash": "c792b874d00d1b92c00d57257ff8295beea1bb4be8c413f0a53259ade95917ac"
   }
  }
 },
 "nbformat": 4,
 "nbformat_minor": 5
}
