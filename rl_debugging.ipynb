{
 "cells": [
  {
   "cell_type": "code",
   "execution_count": 2,
   "id": "47fe3a51-920d-42d5-aaaf-89b905e64013",
   "metadata": {},
   "outputs": [
    {
     "name": "stderr",
     "output_type": "stream",
     "text": [
      "/opt/conda/envs/DQN_train/lib/python3.8/site-packages/tqdm/auto.py:22: TqdmWarning: IProgress not found. Please update jupyter and ipywidgets. See https://ipywidgets.readthedocs.io/en/stable/user_install.html\n",
      "  from .autonotebook import tqdm as notebook_tqdm\n"
     ]
    }
   ],
   "source": [
    "import numpy as np\n",
    "import torch \n",
    "import gym "
   ]
  },
  {
   "cell_type": "code",
   "execution_count": 3,
   "id": "f878576b-921d-449c-b186-f990ab2649af",
   "metadata": {},
   "outputs": [],
   "source": [
    "import matplotlib"
   ]
  },
  {
   "cell_type": "code",
   "execution_count": 4,
   "id": "ce029231-1b9d-4061-bd5a-247fdd250a4b",
   "metadata": {},
   "outputs": [],
   "source": [
    "import matplotlib.pyplot as plt"
   ]
  },
  {
   "cell_type": "code",
   "execution_count": 5,
   "id": "747c0497-204c-4a0b-b402-c1eca32213ed",
   "metadata": {},
   "outputs": [],
   "source": [
    "import cv2"
   ]
  },
  {
   "cell_type": "code",
   "execution_count": 7,
   "id": "46bbf370-8454-4947-81be-911defd05a96",
   "metadata": {},
   "outputs": [],
   "source": [
    "from preprocessing_wrappers import make_atari, wrap_deepmind"
   ]
  },
  {
   "cell_type": "code",
   "execution_count": 9,
   "id": "57bdd335-0a3a-4aea-8760-2e5f15300d86",
   "metadata": {},
   "outputs": [
    {
     "name": "stderr",
     "output_type": "stream",
     "text": [
      "A.L.E: Arcade Learning Environment (version 0.8.0+919230b)\n",
      "[Powered by Stella]\n",
      "/opt/conda/envs/DQN_train/lib/python3.8/site-packages/gym/core.py:317: DeprecationWarning: \u001b[33mWARN: Initializing wrapper in old step API which returns one bool instead of two. It is recommended to set `new_step_api=True` to use new step API. This will be the default behaviour in future.\u001b[0m\n",
      "  deprecation(\n",
      "/opt/conda/envs/DQN_train/lib/python3.8/site-packages/gym/wrappers/step_api_compatibility.py:39: DeprecationWarning: \u001b[33mWARN: Initializing environment in old step API which returns one bool instead of two. It is recommended to set `new_step_api=True` to use new step API. This will be the default behaviour in future.\u001b[0m\n",
      "  deprecation(\n"
     ]
    }
   ],
   "source": [
    "env = gym.make('PongNoFrameskip-v4')"
   ]
  },
  {
   "cell_type": "code",
   "execution_count": 10,
   "id": "8088291e-4859-44a2-8110-da0a763925f7",
   "metadata": {},
   "outputs": [],
   "source": [
    "env_mapper = {'Pong':'PongNoFrameskip-v4',\n",
    "               'Breakout': 'BreakoutNoFrameskip-v4',\n",
    "               'Atlantis':'AtlantisNoFrameskip-v4'}\n"
   ]
  },
  {
   "cell_type": "code",
   "execution_count": 11,
   "id": "fa76cd3f-bb14-4a55-8b64-1aa5b1e00d87",
   "metadata": {},
   "outputs": [
    {
     "name": "stderr",
     "output_type": "stream",
     "text": [
      "/opt/conda/envs/DQN_train/lib/python3.8/site-packages/gym/utils/passive_env_checker.py:190: UserWarning: \u001b[33mWARN: Future gym versions will require that `Env.reset` can be passed `return_info` to return information from the environment resetting.\u001b[0m\n",
      "  logger.warn(\n",
      "/opt/conda/envs/DQN_train/lib/python3.8/site-packages/gym/utils/passive_env_checker.py:137: UserWarning: \u001b[33mWARN: The obs returned by the `reset()` method was expecting a numpy array, actual type: <class 'tuple'>\u001b[0m\n",
      "  logger.warn(\n",
      "/opt/conda/envs/DQN_train/lib/python3.8/site-packages/gym/spaces/box.py:226: UserWarning: \u001b[33mWARN: Casting input x to numpy array.\u001b[0m\n",
      "  logger.warn(\"Casting input x to numpy array.\")\n",
      "/opt/conda/envs/DQN_train/lib/python3.8/site-packages/gym/utils/passive_env_checker.py:167: UserWarning: \u001b[33mWARN: The obs returned by the `reset()` method is not within the observation space with exception: setting an array element with a sequence. The requested array has an inhomogeneous shape after 1 dimensions. The detected shape was (2,) + inhomogeneous part.\u001b[0m\n",
      "  logger.warn(f\"{pre} is not within the observation space with exception: {e}\")\n"
     ]
    }
   ],
   "source": [
    "obs = env.reset()"
   ]
  },
  {
   "cell_type": "code",
   "execution_count": 12,
   "id": "540c7f2e-19af-4b05-b0e9-f38078e3b0c8",
   "metadata": {},
   "outputs": [
    {
     "name": "stderr",
     "output_type": "stream",
     "text": [
      "/tmp/ipykernel_2188684/1022450311.py:1: VisibleDeprecationWarning: Creating an ndarray from ragged nested sequences (which is a list-or-tuple of lists-or-tuples-or ndarrays with different lengths or shapes) is deprecated. If you meant to do this, you must specify 'dtype=object' when creating the ndarray.\n",
      "  np.array(obs).shape\n"
     ]
    },
    {
     "data": {
      "text/plain": [
       "(2,)"
      ]
     },
     "execution_count": 12,
     "metadata": {},
     "output_type": "execute_result"
    }
   ],
   "source": [
    "np.array(obs).shape"
   ]
  },
  {
   "cell_type": "code",
   "execution_count": null,
   "id": "1679138a-4b7a-43dc-913e-11655e97829a",
   "metadata": {},
   "outputs": [],
   "source": []
  },
  {
   "cell_type": "code",
   "execution_count": 14,
   "id": "fd372296-ca43-4f3f-9ca6-7cf5e94d662f",
   "metadata": {},
   "outputs": [],
   "source": [
    "wrapped_env = wrap_deepmind(make_atari(env_mapper['Pong']))"
   ]
  },
  {
   "cell_type": "code",
   "execution_count": 15,
   "id": "822a78c2-bfd5-43db-898a-34188f1a3050",
   "metadata": {},
   "outputs": [],
   "source": [
    "obs = wrapped_env.reset()"
   ]
  },
  {
   "cell_type": "code",
   "execution_count": 16,
   "id": "84466496-dc8b-412c-8e10-294ca59ac499",
   "metadata": {},
   "outputs": [],
   "source": [
    "np_obs = np.array(obs)"
   ]
  },
  {
   "cell_type": "code",
   "execution_count": 17,
   "id": "69db3abc-d57f-4422-8ac3-6add51637a22",
   "metadata": {},
   "outputs": [
    {
     "data": {
      "text/plain": [
       "(84, 84, 4)"
      ]
     },
     "execution_count": 17,
     "metadata": {},
     "output_type": "execute_result"
    }
   ],
   "source": [
    "np_obs.shape"
   ]
  },
  {
   "cell_type": "code",
   "execution_count": 18,
   "id": "c634877a-4cee-4a0f-8321-ae372beca8c7",
   "metadata": {},
   "outputs": [
    {
     "data": {
      "text/plain": [
       "<matplotlib.image.AxesImage at 0x7f1910740d90>"
      ]
     },
     "execution_count": 18,
     "metadata": {},
     "output_type": "execute_result"
    },
    {
     "data": {
      "image/png": "[encoded data removed]",
      "text/plain": [
       "<Figure size 432x288 with 1 Axes>"
      ]
     },
     "metadata": {
      "needs_background": "light"
     },
     "output_type": "display_data"
    }
   ],
   "source": [
    "plt.imshow(np_obs[:,:,0])"
   ]
  },
  {
   "cell_type": "code",
   "execution_count": 19,
   "id": "6cc5f01c-e96c-4a7b-9753-36f756c85ca1",
   "metadata": {},
   "outputs": [
    {
     "data": {
      "text/plain": [
       "<matplotlib.image.AxesImage at 0x7f190e641d60>"
      ]
     },
     "execution_count": 19,
     "metadata": {},
     "output_type": "execute_result"
    },
    {
     "data": {
      "image/png": "[encoded data removed]",
      "text/plain": [
       "<Figure size 432x288 with 1 Axes>"
      ]
     },
     "metadata": {
      "needs_background": "light"
     },
     "output_type": "display_data"
    }
   ],
   "source": [
    "plt.imshow(np_obs[:,:,1])"
   ]
  },
  {
   "cell_type": "code",
   "execution_count": 20,
   "id": "f80b974c-1a4c-4c20-bbde-6d8c59fbfa4c",
   "metadata": {},
   "outputs": [
    {
     "data": {
      "text/plain": [
       "<matplotlib.image.AxesImage at 0x7f190e5c4880>"
      ]
     },
     "execution_count": 20,
     "metadata": {},
     "output_type": "execute_result"
    },
    {
     "data": {
      "image/png": "[encoded data removed]",
      "text/plain": [
       "<Figure size 432x288 with 1 Axes>"
      ]
     },
     "metadata": {
      "needs_background": "light"
     },
     "output_type": "display_data"
    }
   ],
   "source": [
    "plt.imshow(np_obs[:,:,2])"
   ]
  },
  {
   "cell_type": "code",
   "execution_count": 21,
   "id": "609feceb-f8da-4a98-bde7-00b5626699e0",
   "metadata": {},
   "outputs": [
    {
     "data": {
      "text/plain": [
       "<matplotlib.image.AxesImage at 0x7f190e53ebe0>"
      ]
     },
     "execution_count": 21,
     "metadata": {},
     "output_type": "execute_result"
    },
    {
     "data": {
      "image/png": "[encoded data removed]",
      "text/plain": [
       "<Figure size 432x288 with 1 Axes>"
      ]
     },
     "metadata": {
      "needs_background": "light"
     },
     "output_type": "display_data"
    }
   ],
   "source": [
    "plt.imshow(np_obs[:,:,3])"
   ]
  },
  {
   "cell_type": "code",
   "execution_count": 22,
   "id": "bc3674e4-11ad-46a5-ba29-e23e030e3cfb",
   "metadata": {},
   "outputs": [],
   "source": [
    "obs, reward, done, info = wrapped_env.step(0)"
   ]
  },
  {
   "cell_type": "code",
   "execution_count": 23,
   "id": "9217bf69-7070-4b73-b444-19dae5b7f404",
   "metadata": {},
   "outputs": [],
   "source": [
    "obs, reward, done, info = wrapped_env.step(1)"
   ]
  },
  {
   "cell_type": "code",
   "execution_count": 24,
   "id": "0319118a-039c-46b7-9592-8b3e69386b33",
   "metadata": {},
   "outputs": [
    {
     "data": {
      "text/plain": [
       "<matplotlib.image.AxesImage at 0x7f190e4c82b0>"
      ]
     },
     "execution_count": 24,
     "metadata": {},
     "output_type": "execute_result"
    },
    {
     "data": {
      "image/png": "[encoded data removed]",
      "text/plain": [
       "<Figure size 432x288 with 1 Axes>"
      ]
     },
     "metadata": {
      "needs_background": "light"
     },
     "output_type": "display_data"
    }
   ],
   "source": [
    "plt.imshow(np_obs[:,:,0])"
   ]
  },
  {
   "cell_type": "code",
   "execution_count": 25,
   "id": "efbb1a25-c00f-42e4-805c-efd52c1c1b59",
   "metadata": {},
   "outputs": [
    {
     "ename": "AttributeError",
     "evalue": "'LazyFrames' object has no attribute 'shape'",
     "output_type": "error",
     "traceback": [
      "\u001b[0;31m---------------------------------------------------------------------------\u001b[0m",
      "\u001b[0;31mAttributeError\u001b[0m                            Traceback (most recent call last)",
      "Input \u001b[0;32mIn [25]\u001b[0m, in \u001b[0;36m<cell line: 1>\u001b[0;34m()\u001b[0m\n\u001b[0;32m----> 1\u001b[0m \u001b[43mobs\u001b[49m\u001b[38;5;241;43m.\u001b[39;49m\u001b[43mshape\u001b[49m\n",
      "\u001b[0;31mAttributeError\u001b[0m: 'LazyFrames' object has no attribute 'shape'"
     ]
    }
   ],
   "source": [
    "obs.shape"
   ]
  },
  {
   "cell_type": "code",
   "execution_count": 26,
   "id": "881bb289-1833-4250-be44-83fa01e39d13",
   "metadata": {},
   "outputs": [
    {
     "data": {
      "text/plain": [
       "<matplotlib.image.AxesImage at 0x7f190e3ed820>"
      ]
     },
     "execution_count": 26,
     "metadata": {},
     "output_type": "execute_result"
    },
    {
     "data": {
      "image/png": "[encoded data removed]",
      "text/plain": [
       "<Figure size 432x288 with 1 Axes>"
      ]
     },
     "metadata": {
      "needs_background": "light"
     },
     "output_type": "display_data"
    }
   ],
   "source": [
    "plt.imshow(np_obs[:,:,0])"
   ]
  },
  {
   "cell_type": "code",
   "execution_count": null,
   "id": "3d4c4552-61b4-49d2-9094-ccf3d0b136f7",
   "metadata": {},
   "outputs": [],
   "source": []
  },
  {
   "cell_type": "code",
   "execution_count": 113,
   "id": "dbbec0c4-9c67-4ca8-9a33-9a54a431510c",
   "metadata": {},
   "outputs": [],
   "source": [
    "obs, reward, done, info = wrapped_env.step(3)"
   ]
  },
  {
   "cell_type": "code",
   "execution_count": 111,
   "id": "e7158c56-6959-4135-9d3b-76e0a97add4e",
   "metadata": {},
   "outputs": [],
   "source": [
    "np_obs = np.array(obs)"
   ]
  },
  {
   "cell_type": "code",
   "execution_count": 105,
   "id": "dd487148-4c8f-44a8-b378-86a63fe6880f",
   "metadata": {},
   "outputs": [
    {
     "data": {
      "text/plain": [
       "(84, 84, 4)"
      ]
     },
     "execution_count": 105,
     "metadata": {},
     "output_type": "execute_result"
    }
   ],
   "source": [
    "np_obs.shape"
   ]
  },
  {
   "cell_type": "code",
   "execution_count": 114,
   "id": "92bed849-115f-43b5-b662-6bca1ec340ba",
   "metadata": {},
   "outputs": [
    {
     "data": {
      "text/plain": [
       "<matplotlib.image.AxesImage at 0x7f190ceeb520>"
      ]
     },
     "execution_count": 114,
     "metadata": {},
     "output_type": "execute_result"
    },
    {
     "data": {
      "image/png": "[encoded data removed]",
      "text/plain": [
       "<Figure size 432x288 with 1 Axes>"
      ]
     },
     "metadata": {
      "needs_background": "light"
     },
     "output_type": "display_data"
    }
   ],
   "source": [
    "plt.imshow(np_obs[:,:,0])"
   ]
  },
  {
   "cell_type": "code",
   "execution_count": 115,
   "id": "632848b3-b686-4875-bb81-330e91e135f5",
   "metadata": {},
   "outputs": [
    {
     "data": {
      "text/plain": [
       "<matplotlib.image.AxesImage at 0x7f190ce65880>"
      ]
     },
     "execution_count": 115,
     "metadata": {},
     "output_type": "execute_result"
    },
    {
     "data": {
      "image/png": "[encoded data removed]",
      "text/plain": [
       "<Figure size 432x288 with 1 Axes>"
      ]
     },
     "metadata": {
      "needs_background": "light"
     },
     "output_type": "display_data"
    }
   ],
   "source": [
    "plt.imshow(np_obs[:,:,1])"
   ]
  },
  {
   "cell_type": "code",
   "execution_count": 116,
   "id": "226f5053-b4a1-454e-b955-b096159333fe",
   "metadata": {},
   "outputs": [
    {
     "data": {
      "text/plain": [
       "<matplotlib.image.AxesImage at 0x7f190cde7160>"
      ]
     },
     "execution_count": 116,
     "metadata": {},
     "output_type": "execute_result"
    },
    {
     "data": {
      "image/png": "[encoded data removed]",
      "text/plain": [
       "<Figure size 432x288 with 1 Axes>"
      ]
     },
     "metadata": {
      "needs_background": "light"
     },
     "output_type": "display_data"
    }
   ],
   "source": [
    "plt.imshow(np_obs[:,:,2])"
   ]
  },
  {
   "cell_type": "code",
   "execution_count": 117,
   "id": "0e1c2a9a-67e8-4881-b626-2c0f0e3683a6",
   "metadata": {},
   "outputs": [
    {
     "data": {
      "text/plain": [
       "<matplotlib.image.AxesImage at 0x7f190cd61490>"
      ]
     },
     "execution_count": 117,
     "metadata": {},
     "output_type": "execute_result"
    },
    {
     "data": {
      "image/png": "[encoded data removed]",
      "text/plain": [
       "<Figure size 432x288 with 1 Axes>"
      ]
     },
     "metadata": {
      "needs_background": "light"
     },
     "output_type": "display_data"
    }
   ],
   "source": [
    "plt.imshow(np_obs[:,:,3])"
   ]
  },
  {
   "cell_type": "code",
   "execution_count": 89,
   "id": "8034c1d2-78d4-45b0-825d-2512a96599b7",
   "metadata": {},
   "outputs": [
    {
     "data": {
      "text/plain": [
       "0.014866288957186446"
      ]
     },
     "execution_count": 89,
     "metadata": {},
     "output_type": "execute_result"
    }
   ],
   "source": [
    "np.random.rand(1)[0]"
   ]
  },
  {
   "cell_type": "code",
   "execution_count": 46,
   "id": "7eb6b487-b57d-4418-bf73-eccb76385d47",
   "metadata": {},
   "outputs": [
    {
     "data": {
      "text/plain": [
       "array([0.88474065])"
      ]
     },
     "execution_count": 46,
     "metadata": {},
     "output_type": "execute_result"
    }
   ],
   "source": [
    "np.random.rand(1)"
   ]
  },
  {
   "cell_type": "code",
   "execution_count": 47,
   "id": "facca4b3-ff7a-4910-ad01-e3e85f3c8020",
   "metadata": {},
   "outputs": [],
   "source": [
    "x = np.array([1,2,3,4,5])\n",
    "y = np.array([1000,989,979,400,800])"
   ]
  },
  {
   "cell_type": "code",
   "execution_count": null,
   "id": "238593ca-e5a3-463f-b609-9d22ac9f86dd",
   "metadata": {},
   "outputs": [],
   "source": []
  },
  {
   "cell_type": "code",
   "execution_count": 57,
   "id": "1443c6b4-2c70-4c48-a1b6-388b435f9d26",
   "metadata": {},
   "outputs": [
    {
     "data": {
      "image/png": "[encoded data removed]",
      "text/plain": [
       "<Figure size 432x288 with 1 Axes>"
      ]
     },
     "metadata": {
      "needs_background": "light"
     },
     "output_type": "display_data"
    }
   ],
   "source": [
    "plt.plot(x,y)\n",
    "plt.savefig('tester.png')"
   ]
  },
  {
   "cell_type": "code",
   "execution_count": null,
   "id": "4b29af79-cab1-44ce-ba55-8b35a511c938",
   "metadata": {},
   "outputs": [],
   "source": []
  }
 ],
 "metadata": {
  "kernelspec": {
   "display_name": "DQN_train",
   "language": "python",
   "name": "dqn_train"
  },
  "language_info": {
   "codemirror_mode": {
    "name": "ipython",
    "version": 3
   },
   "file_extension": ".py",
   "mimetype": "text/x-python",
   "name": "python",
   "nbconvert_exporter": "python",
   "pygments_lexer": "ipython3",
   "version": "3.8.13"
  }
 },
 "nbformat": 4,
 "nbformat_minor": 5
}
