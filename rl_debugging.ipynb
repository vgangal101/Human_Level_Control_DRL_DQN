{
 "cells": [
  {
   "cell_type": "code",
   "execution_count": 2,
   "id": "47fe3a51-920d-42d5-aaaf-89b905e64013",
   "metadata": {},
   "outputs": [],
   "source": [
    "import numpy as np\n",
    "import torch \n",
    "import gym "
   ]
  },
  {
   "cell_type": "code",
   "execution_count": 3,
   "id": "f878576b-921d-449c-b186-f990ab2649af",
   "metadata": {},
   "outputs": [],
   "source": [
    "import matplotlib"
   ]
  },
  {
   "cell_type": "code",
   "execution_count": 4,
   "id": "ce029231-1b9d-4061-bd5a-247fdd250a4b",
   "metadata": {},
   "outputs": [],
   "source": [
    "import matplotlib.pyplot as plt"
   ]
  },
  {
   "cell_type": "code",
   "execution_count": 5,
   "id": "747c0497-204c-4a0b-b402-c1eca32213ed",
   "metadata": {},
   "outputs": [],
   "source": [
    "import cv2"
   ]
  },
  {
   "cell_type": "code",
   "execution_count": 6,
   "id": "46bbf370-8454-4947-81be-911defd05a96",
   "metadata": {},
   "outputs": [],
   "source": [
    "import preprocessing_wrappers2\n",
    "from preprocessing_wrappers2 import make_atari, wrap_deepmind"
   ]
  },
  {
   "cell_type": "code",
   "execution_count": 7,
   "id": "55f93e96-58a3-4aee-91be-4a433a00f979",
   "metadata": {},
   "outputs": [],
   "source": [
    "from train import make_env"
   ]
  },
  {
   "cell_type": "code",
   "execution_count": 8,
   "id": "57bdd335-0a3a-4aea-8760-2e5f15300d86",
   "metadata": {},
   "outputs": [
    {
     "name": "stderr",
     "output_type": "stream",
     "text": [
      "A.L.E: Arcade Learning Environment (version 0.7.5+db37282)\n",
      "[Powered by Stella]\n"
     ]
    }
   ],
   "source": [
    "env = gym.make('PongNoFrameskip-v4')"
   ]
  },
  {
   "cell_type": "code",
   "execution_count": 9,
   "id": "8088291e-4859-44a2-8110-da0a763925f7",
   "metadata": {},
   "outputs": [],
   "source": [
    "env_mapper = {'Pong':'PongNoFrameskip-v4',\n",
    "               'Breakout': 'BreakoutNoFrameskip-v4',\n",
    "               'Atlantis':'AtlantisNoFrameskip-v4'}\n"
   ]
  },
  {
   "cell_type": "code",
   "execution_count": 10,
   "id": "fa76cd3f-bb14-4a55-8b64-1aa5b1e00d87",
   "metadata": {},
   "outputs": [],
   "source": [
    "obs = env.reset()"
   ]
  },
  {
   "cell_type": "code",
   "execution_count": 11,
   "id": "540c7f2e-19af-4b05-b0e9-f38078e3b0c8",
   "metadata": {},
   "outputs": [
    {
     "data": {
      "text/plain": [
       "(210, 160, 3)"
      ]
     },
     "execution_count": 11,
     "metadata": {},
     "output_type": "execute_result"
    }
   ],
   "source": [
    "obs.shape"
   ]
  },
  {
   "cell_type": "code",
   "execution_count": null,
   "id": "1679138a-4b7a-43dc-913e-11655e97829a",
   "metadata": {},
   "outputs": [],
   "source": []
  },
  {
   "cell_type": "code",
   "execution_count": 12,
   "id": "fd372296-ca43-4f3f-9ca6-7cf5e94d662f",
   "metadata": {},
   "outputs": [],
   "source": [
    "wrapped_env = make_env(env_mapper['Pong'])"
   ]
  },
  {
   "cell_type": "code",
   "execution_count": 13,
   "id": "822a78c2-bfd5-43db-898a-34188f1a3050",
   "metadata": {},
   "outputs": [],
   "source": [
    "obs = wrapped_env.reset()"
   ]
  },
  {
   "cell_type": "code",
   "execution_count": 14,
   "id": "84466496-dc8b-412c-8e10-294ca59ac499",
   "metadata": {},
   "outputs": [],
   "source": [
    "np_obs = np.array(obs)"
   ]
  },
  {
   "cell_type": "code",
   "execution_count": 15,
   "id": "69db3abc-d57f-4422-8ac3-6add51637a22",
   "metadata": {},
   "outputs": [
    {
     "data": {
      "text/plain": [
       "(84, 84, 4)"
      ]
     },
     "execution_count": 15,
     "metadata": {},
     "output_type": "execute_result"
    }
   ],
   "source": [
    "np_obs.shape"
   ]
  },
  {
   "cell_type": "code",
   "execution_count": 16,
   "id": "c634877a-4cee-4a0f-8321-ae372beca8c7",
   "metadata": {},
   "outputs": [
    {
     "data": {
      "text/plain": [
       "<matplotlib.image.AxesImage at 0x7ffa6639d5b0>"
      ]
     },
     "execution_count": 16,
     "metadata": {},
     "output_type": "execute_result"
    },
    {
     "data": {
      "image/png": "[encoded data removed]",
      "text/plain": [
       "<Figure size 432x288 with 1 Axes>"
      ]
     },
     "metadata": {
      "needs_background": "light"
     },
     "output_type": "display_data"
    }
   ],
   "source": [
    "plt.imshow(np_obs[:,:,0])"
   ]
  },
  {
   "cell_type": "code",
   "execution_count": 17,
   "id": "6cc5f01c-e96c-4a7b-9753-36f756c85ca1",
   "metadata": {},
   "outputs": [
    {
     "data": {
      "text/plain": [
       "<matplotlib.image.AxesImage at 0x7ffa64018c70>"
      ]
     },
     "execution_count": 17,
     "metadata": {},
     "output_type": "execute_result"
    },
    {
     "data": {
      "image/png": "[encoded data removed]",
      "text/plain": [
       "<Figure size 432x288 with 1 Axes>"
      ]
     },
     "metadata": {
      "needs_background": "light"
     },
     "output_type": "display_data"
    }
   ],
   "source": [
    "plt.imshow(np_obs[:,:,1])"
   ]
  },
  {
   "cell_type": "code",
   "execution_count": 18,
   "id": "f80b974c-1a4c-4c20-bbde-6d8c59fbfa4c",
   "metadata": {},
   "outputs": [
    {
     "data": {
      "text/plain": [
       "<matplotlib.image.AxesImage at 0x7ffa63f96bb0>"
      ]
     },
     "execution_count": 18,
     "metadata": {},
     "output_type": "execute_result"
    },
    {
     "data": {
      "image/png": "[encoded data removed]",
      "text/plain": [
       "<Figure size 432x288 with 1 Axes>"
      ]
     },
     "metadata": {
      "needs_background": "light"
     },
     "output_type": "display_data"
    }
   ],
   "source": [
    "plt.imshow(np_obs[:,:,2])"
   ]
  },
  {
   "cell_type": "code",
   "execution_count": 19,
   "id": "609feceb-f8da-4a98-bde7-00b5626699e0",
   "metadata": {},
   "outputs": [
    {
     "data": {
      "text/plain": [
       "<matplotlib.image.AxesImage at 0x7ffa63f1a640>"
      ]
     },
     "execution_count": 19,
     "metadata": {},
     "output_type": "execute_result"
    },
    {
     "data": {
      "image/png": "[encoded data removed]",
      "text/plain": [
       "<Figure size 432x288 with 1 Axes>"
      ]
     },
     "metadata": {
      "needs_background": "light"
     },
     "output_type": "display_data"
    }
   ],
   "source": [
    "plt.imshow(np_obs[:,:,3])"
   ]
  },
  {
   "cell_type": "code",
   "execution_count": 20,
   "id": "bc3674e4-11ad-46a5-ba29-e23e030e3cfb",
   "metadata": {},
   "outputs": [],
   "source": [
    "obs, reward, done, info = wrapped_env.step(0)"
   ]
  },
  {
   "cell_type": "code",
   "execution_count": 21,
   "id": "9217bf69-7070-4b73-b444-19dae5b7f404",
   "metadata": {},
   "outputs": [],
   "source": [
    "obs, reward, done, info = wrapped_env.step(1)"
   ]
  },
  {
   "cell_type": "code",
   "execution_count": 22,
   "id": "0319118a-039c-46b7-9592-8b3e69386b33",
   "metadata": {},
   "outputs": [
    {
     "data": {
      "text/plain": [
       "<matplotlib.image.AxesImage at 0x7ffa63e96a60>"
      ]
     },
     "execution_count": 22,
     "metadata": {},
     "output_type": "execute_result"
    },
    {
     "data": {
      "image/png": "[encoded data removed]",
      "text/plain": [
       "<Figure size 432x288 with 1 Axes>"
      ]
     },
     "metadata": {
      "needs_background": "light"
     },
     "output_type": "display_data"
    }
   ],
   "source": [
    "plt.imshow(np_obs[:,:,0])"
   ]
  },
  {
   "cell_type": "code",
   "execution_count": 23,
   "id": "efbb1a25-c00f-42e4-805c-efd52c1c1b59",
   "metadata": {},
   "outputs": [
    {
     "ename": "AttributeError",
     "evalue": "'LazyFrames' object has no attribute 'shape'",
     "output_type": "error",
     "traceback": [
      "\u001b[0;31m---------------------------------------------------------------------------\u001b[0m",
      "\u001b[0;31mAttributeError\u001b[0m                            Traceback (most recent call last)",
      "Input \u001b[0;32mIn [23]\u001b[0m, in \u001b[0;36m<cell line: 1>\u001b[0;34m()\u001b[0m\n\u001b[0;32m----> 1\u001b[0m \u001b[43mobs\u001b[49m\u001b[38;5;241;43m.\u001b[39;49m\u001b[43mshape\u001b[49m\n",
      "\u001b[0;31mAttributeError\u001b[0m: 'LazyFrames' object has no attribute 'shape'"
     ]
    }
   ],
   "source": [
    "obs.shape"
   ]
  },
  {
   "cell_type": "code",
   "execution_count": 24,
   "id": "881bb289-1833-4250-be44-83fa01e39d13",
   "metadata": {},
   "outputs": [
    {
     "data": {
      "text/plain": [
       "<matplotlib.image.AxesImage at 0x7ffa63db7b20>"
      ]
     },
     "execution_count": 24,
     "metadata": {},
     "output_type": "execute_result"
    },
    {
     "data": {
      "image/png": "[encoded data removed]",
      "text/plain": [
       "<Figure size 432x288 with 1 Axes>"
      ]
     },
     "metadata": {
      "needs_background": "light"
     },
     "output_type": "display_data"
    }
   ],
   "source": [
    "plt.imshow(np_obs[:,:,0])"
   ]
  },
  {
   "cell_type": "code",
   "execution_count": null,
   "id": "3d4c4552-61b4-49d2-9094-ccf3d0b136f7",
   "metadata": {},
   "outputs": [],
   "source": []
  },
  {
   "cell_type": "code",
   "execution_count": 27,
   "id": "dbbec0c4-9c67-4ca8-9a33-9a54a431510c",
   "metadata": {},
   "outputs": [],
   "source": [
    "obs, reward, done, info = wrapped_env.step(1)"
   ]
  },
  {
   "cell_type": "code",
   "execution_count": 28,
   "id": "e7158c56-6959-4135-9d3b-76e0a97add4e",
   "metadata": {},
   "outputs": [],
   "source": [
    "np_obs = np.array(obs)"
   ]
  },
  {
   "cell_type": "code",
   "execution_count": 29,
   "id": "dd487148-4c8f-44a8-b378-86a63fe6880f",
   "metadata": {},
   "outputs": [
    {
     "data": {
      "text/plain": [
       "(84, 84, 4)"
      ]
     },
     "execution_count": 29,
     "metadata": {},
     "output_type": "execute_result"
    }
   ],
   "source": [
    "np_obs.shape"
   ]
  },
  {
   "cell_type": "code",
   "execution_count": 30,
   "id": "92bed849-115f-43b5-b662-6bca1ec340ba",
   "metadata": {},
   "outputs": [
    {
     "data": {
      "text/plain": [
       "<matplotlib.image.AxesImage at 0x7ffa63d2a4f0>"
      ]
     },
     "execution_count": 30,
     "metadata": {},
     "output_type": "execute_result"
    },
    {
     "data": {
      "image/png": "[encoded data removed]",
      "text/plain": [
       "<Figure size 432x288 with 1 Axes>"
      ]
     },
     "metadata": {
      "needs_background": "light"
     },
     "output_type": "display_data"
    }
   ],
   "source": [
    "plt.imshow(np_obs[:,:,0])"
   ]
  },
  {
   "cell_type": "code",
   "execution_count": 31,
   "id": "632848b3-b686-4875-bb81-330e91e135f5",
   "metadata": {},
   "outputs": [
    {
     "data": {
      "text/plain": [
       "<matplotlib.image.AxesImage at 0x7ffa63ca66a0>"
      ]
     },
     "execution_count": 31,
     "metadata": {},
     "output_type": "execute_result"
    },
    {
     "data": {
      "image/png": "[encoded data removed]",
      "text/plain": [
       "<Figure size 432x288 with 1 Axes>"
      ]
     },
     "metadata": {
      "needs_background": "light"
     },
     "output_type": "display_data"
    }
   ],
   "source": [
    "plt.imshow(np_obs[:,:,1])"
   ]
  },
  {
   "cell_type": "code",
   "execution_count": 32,
   "id": "226f5053-b4a1-454e-b955-b096159333fe",
   "metadata": {},
   "outputs": [
    {
     "data": {
      "text/plain": [
       "<matplotlib.image.AxesImage at 0x7ffa63c22bb0>"
      ]
     },
     "execution_count": 32,
     "metadata": {},
     "output_type": "execute_result"
    },
    {
     "data": {
      "image/png": "[encoded data removed]",
      "text/plain": [
       "<Figure size 432x288 with 1 Axes>"
      ]
     },
     "metadata": {
      "needs_background": "light"
     },
     "output_type": "display_data"
    }
   ],
   "source": [
    "plt.imshow(np_obs[:,:,2])"
   ]
  },
  {
   "cell_type": "code",
   "execution_count": 33,
   "id": "0e1c2a9a-67e8-4881-b626-2c0f0e3683a6",
   "metadata": {},
   "outputs": [
    {
     "data": {
      "text/plain": [
       "<matplotlib.image.AxesImage at 0x7ffa63c1be80>"
      ]
     },
     "execution_count": 33,
     "metadata": {},
     "output_type": "execute_result"
    },
    {
     "data": {
      "image/png": "[encoded data removed]",
      "text/plain": [
       "<Figure size 432x288 with 1 Axes>"
      ]
     },
     "metadata": {
      "needs_background": "light"
     },
     "output_type": "display_data"
    }
   ],
   "source": [
    "plt.imshow(np_obs[:,:,3])"
   ]
  },
  {
   "cell_type": "code",
   "execution_count": 34,
   "id": "8034c1d2-78d4-45b0-825d-2512a96599b7",
   "metadata": {},
   "outputs": [
    {
     "data": {
      "text/plain": [
       "0.5269748334921273"
      ]
     },
     "execution_count": 34,
     "metadata": {},
     "output_type": "execute_result"
    }
   ],
   "source": [
    "np.random.rand(1)[0]"
   ]
  },
  {
   "cell_type": "code",
   "execution_count": 41,
   "id": "7eb6b487-b57d-4418-bf73-eccb76385d47",
   "metadata": {},
   "outputs": [
    {
     "ename": "TypeError",
     "evalue": "'float' object is not subscriptable",
     "output_type": "error",
     "traceback": [
      "\u001b[0;31m---------------------------------------------------------------------------\u001b[0m",
      "\u001b[0;31mTypeError\u001b[0m                                 Traceback (most recent call last)",
      "Input \u001b[0;32mIn [41]\u001b[0m, in \u001b[0;36m<cell line: 1>\u001b[0;34m()\u001b[0m\n\u001b[0;32m----> 1\u001b[0m \u001b[43mnp\u001b[49m\u001b[38;5;241;43m.\u001b[39;49m\u001b[43mrandom\u001b[49m\u001b[38;5;241;43m.\u001b[39;49m\u001b[43mrand\u001b[49m\u001b[43m(\u001b[49m\u001b[43m)\u001b[49m\u001b[43m[\u001b[49m\u001b[38;5;241;43m0\u001b[39;49m\u001b[43m]\u001b[49m\n",
      "\u001b[0;31mTypeError\u001b[0m: 'float' object is not subscriptable"
     ]
    }
   ],
   "source": [
    "np.random.rand(1)"
   ]
  },
  {
   "cell_type": "code",
   "execution_count": null,
   "id": "facca4b3-ff7a-4910-ad01-e3e85f3c8020",
   "metadata": {},
   "outputs": [],
   "source": [
    "from train import "
   ]
  },
  {
   "cell_type": "code",
   "execution_count": null,
   "id": "1443c6b4-2c70-4c48-a1b6-388b435f9d26",
   "metadata": {},
   "outputs": [],
   "source": []
  }
 ],
 "metadata": {
  "kernelspec": {
   "display_name": "DQN_env",
   "language": "python",
   "name": "dqn_env"
  },
  "language_info": {
   "codemirror_mode": {
    "name": "ipython",
    "version": 3
   },
   "file_extension": ".py",
   "mimetype": "text/x-python",
   "name": "python",
   "nbconvert_exporter": "python",
   "pygments_lexer": "ipython3",
   "version": "3.8.13"
  }
 },
 "nbformat": 4,
 "nbformat_minor": 5
}
